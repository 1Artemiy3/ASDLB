{
 "cells": [
  {
   "cell_type": "markdown",
   "id": "b0fc7b16-54f1-41b4-a253-569badf92cd2",
   "metadata": {},
   "source": [
    "# Лабораторна робота №9\n",
    "# Тема: Алгоритми на рядках\n",
    "# Мета: Освоїти низку основних алгоритмів на рядках засобами мови Python."
   ]
  },
  {
   "cell_type": "markdown",
   "id": "61fc475d-7216-4099-8724-a914e5f39af6",
   "metadata": {},
   "source": [
    "# Наївний пошук шаблонів"
   ]
  },
  {
   "cell_type": "code",
   "execution_count": 1,
   "id": "55dc8384-6a86-48db-ac92-8f3685c68cb5",
   "metadata": {},
   "outputs": [
    {
     "name": "stdout",
     "output_type": "stream",
     "text": [
      "Naive Match: [0, 5]\n"
     ]
    }
   ],
   "source": [
    "def naive_match(p, t):\n",
    "    assert len(p) <= len(t)\n",
    "    occurrences = []\n",
    "    for i in range(len(t) - len(p) + 1):\n",
    "        match = True\n",
    "        for j in range(len(p)):\n",
    "            if t[i + j] != p[j]:\n",
    "                match = False\n",
    "                break\n",
    "        if match:\n",
    "            occurrences.append(i)\n",
    "    return occurrences\n",
    "\n",
    "# Приклад використання:\n",
    "text = \"hellohell\"\n",
    "pattern = \"hell\"\n",
    "print(\"Naive Match:\", naive_match(pattern, text))"
   ]
  },
  {
   "cell_type": "markdown",
   "id": "ad479ff0-55f8-4772-83e2-788ce934001c",
   "metadata": {},
   "source": [
    "# Z-Функція"
   ]
  },
  {
   "cell_type": "code",
   "execution_count": 2,
   "id": "98425499-0326-4279-ad69-c4c237978af8",
   "metadata": {},
   "outputs": [
    {
     "name": "stdout",
     "output_type": "stream",
     "text": [
      "Z-функція для 'abacaba': [7, 0, 1, 0, 3, 0, 1]\n"
     ]
    }
   ],
   "source": [
    "def z_func(s):\n",
    "    Z = [len(s)] + [0] * (len(s) - 1)\n",
    "    l, r = 0, 0\n",
    "    for i in range(1, len(s)):\n",
    "        if i <= r:\n",
    "            Z[i] = min(r - i + 1, Z[i - l])\n",
    "        while i + Z[i] < len(s) and s[Z[i]] == s[i + Z[i]]:\n",
    "            Z[i] += 1\n",
    "        if i + Z[i] - 1 > r:\n",
    "            l, r = i, i + Z[i] - 1\n",
    "    return Z\n",
    "\n",
    "# Приклад використання:\n",
    "print(\"Z-функція для 'abacaba':\", z_func(\"abacaba\"))"
   ]
  },
  {
   "cell_type": "markdown",
   "id": "a4dcaff5-710a-410e-9ff2-d39d7372b321",
   "metadata": {},
   "source": [
    "# Пошук підрядка в рядку за допомогою Z-функції"
   ]
  },
  {
   "cell_type": "code",
   "execution_count": 3,
   "id": "b6bfa598-95bd-438a-831e-d6f35d1a6c66",
   "metadata": {},
   "outputs": [
    {
     "name": "stdout",
     "output_type": "stream",
     "text": [
      "Z-пошук: [0, 4, 8, 12]\n"
     ]
    }
   ],
   "source": [
    "def z_search(p, t):\n",
    "    s = p + \"$\" + t\n",
    "    Z = z_func(s)\n",
    "    result = []\n",
    "    for i in range(len(p) + 1, len(s)):\n",
    "        if Z[i] == len(p):\n",
    "            result.append(i - len(p) - 1)\n",
    "    return result\n",
    "\n",
    "# Приклад використання:\n",
    "pattern = \"aba\"\n",
    "text = \"abacabadabacaba\"\n",
    "print(\"Z-пошук:\", z_search(pattern, text))"
   ]
  },
  {
   "cell_type": "markdown",
   "id": "1b13eaab-2543-4371-a5f2-f151618d9f3e",
   "metadata": {},
   "source": [
    "# Стиснення рядка за допомогою Z-функції"
   ]
  },
  {
   "cell_type": "code",
   "execution_count": 4,
   "id": "64a0a4e9-7ac0-4dc1-bce4-d68b61283b83",
   "metadata": {},
   "outputs": [
    {
     "name": "stdout",
     "output_type": "stream",
     "text": [
      "Стиснутий рядок: abc\n"
     ]
    }
   ],
   "source": [
    "def compress_with_z(s):\n",
    "    Z = z_func(s)\n",
    "    for i in range(1, len(s)):\n",
    "        if i + Z[i] == len(s) and len(s) % i == 0:\n",
    "            return s[:i]\n",
    "    return s\n",
    "compressed = compress_with_z(\"abcabcabcabc\")\n",
    "print(\"Стиснутий рядок:\", compressed)"
   ]
  },
  {
   "cell_type": "markdown",
   "id": "3222cc60-23a2-4980-8d7e-72d7029ae0a9",
   "metadata": {},
   "source": [
    "# Приклади для довільних рядків"
   ]
  },
  {
   "cell_type": "code",
   "execution_count": 5,
   "id": "423bd96d-feff-4663-895e-50c673102235",
   "metadata": {},
   "outputs": [
    {
     "name": "stdout",
     "output_type": "stream",
     "text": [
      "\n",
      "---\n",
      "Text: abcabcabc, Pattern: abc\n",
      "Naive: [0, 3, 6]\n",
      "Z-Search: [0, 3, 6]\n",
      "Compressed: abc\n",
      "\n",
      "---\n",
      "Text: aaaaaa, Pattern: aaa\n",
      "Naive: [0, 1, 2, 3]\n",
      "Z-Search: [0, 1, 2, 3]\n",
      "Compressed: a\n",
      "\n",
      "---\n",
      "Text: abcdef, Pattern: def\n",
      "Naive: [3]\n",
      "Z-Search: [3]\n",
      "Compressed: abcdef\n",
      "\n",
      "---\n",
      "Text: abababab, Pattern: aba\n",
      "Naive: [0, 2, 4]\n",
      "Z-Search: [0, 2, 4]\n",
      "Compressed: ab\n",
      "\n",
      "---\n",
      "Text: abcd, Pattern: xyz\n",
      "Naive: []\n",
      "Z-Search: []\n",
      "Compressed: abcd\n"
     ]
    }
   ],
   "source": [
    "examples = [\n",
    "    (\"abcabcabc\", \"abc\"),        \n",
    "    (\"aaaaaa\", \"aaa\"),           \n",
    "    (\"abcdef\", \"def\"),           \n",
    "    (\"abababab\", \"aba\"),         \n",
    "    (\"abcd\", \"xyz\"),             \n",
    "]\n",
    "\n",
    "for t, p in examples:\n",
    "    print(f\"\\n---\\nText: {t}, Pattern: {p}\")\n",
    "    print(\"Naive:\", naive_match(p, t))\n",
    "    print(\"Z-Search:\", z_search(p, t))\n",
    "    print(\"Compressed:\", compress_with_z(t))"
   ]
  },
  {
   "cell_type": "markdown",
   "id": "7f88c771-1f71-4223-a7e5-0484783bed05",
   "metadata": {},
   "source": [
    "# Контрольні запитання "
   ]
  },
  {
   "cell_type": "markdown",
   "id": "28827dc3-6291-405a-b214-751a35876ea2",
   "metadata": {},
   "source": [
    "# 1. Префікс-функція — для кожної позиції рядка обчислює довжину найбільшого власного префікса, що є суфіксом.\n",
    "* Відмінність від Z-функції: префікс-функція порівнює суфікси з префіксами, а Z-функція — підрядки з початковим префіксом.\n",
    "# 2. Z-функція — масив, де кожен елемент показує довжину спільного префікса між рядком і його підрядком з поточної позиції.\n",
    "* Значення: використовується для пошуку підрядка, стиснення рядків, побудови індексів — усе з лінійною складністю.\n",
    "# 3. Підходи до пошуку найдовшого спільного підрядка:\n",
    "* Динамічне програмування (O(n·m))\n",
    "* Суфісне дерево або масив (O(n + m))\n",
    "* Rolling Hash (Рабін-Карп)\n",
    "* Z-функція (для включення одного рядка в інший)\n",
    "# 4. Застосування алгоритмів на рядках в NLP і текстах:\n",
    "* Пошукові системи (пошук фраз)\n",
    "* Виявлення спаму та дублювання\n",
    "* Токенізація, нормалізація текстів\n",
    "* Аналіз лексики, плагіату, машинний переклад"
   ]
  },
  {
   "cell_type": "markdown",
   "id": "18a9eb80-8868-4c81-9efd-ed42964c238e",
   "metadata": {},
   "source": [
    "# Висновок:"
   ]
  },
  {
   "cell_type": "markdown",
   "id": "83f7ae84-841b-4029-89b7-eef22f44bb4c",
   "metadata": {},
   "source": [
    "# Під час цієї лабораторної роботи ми освоїли низку основних алгоритмів на рядках засобами мови Python."
   ]
  }
 ],
 "metadata": {
  "kernelspec": {
   "display_name": "Python [conda env:base] *",
   "language": "python",
   "name": "conda-base-py"
  },
  "language_info": {
   "codemirror_mode": {
    "name": "ipython",
    "version": 3
   },
   "file_extension": ".py",
   "mimetype": "text/x-python",
   "name": "python",
   "nbconvert_exporter": "python",
   "pygments_lexer": "ipython3",
   "version": "3.12.7"
  }
 },
 "nbformat": 4,
 "nbformat_minor": 5
}
