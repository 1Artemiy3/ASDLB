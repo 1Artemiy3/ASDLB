{
 "cells": [
  {
   "cell_type": "markdown",
   "id": "87fa8741-9235-4e92-9a5a-d7863a4dffb6",
   "metadata": {},
   "source": [
    "# Лабораторна робота 4"
   ]
  },
  {
   "cell_type": "markdown",
   "id": "ce327948-21e7-4196-9e20-5b81ed17e23c",
   "metadata": {},
   "source": [
    "# Тема. Рекурсія. Стратегія «розділяй і володарюй»\n",
    "# Мета: засвоїти технологію реалізації рекурсивних алгоритмів засобами Python і оцінювання їх складності з використанням головної теореми рекурсії.\n",
    "\n"
   ]
  },
  {
   "cell_type": "markdown",
   "id": "1730485d-d73b-4e57-bab6-9520d4c37d44",
   "metadata": {},
   "source": [
    "# Рекурсивне обчислення факторіалу\n"
   ]
  },
  {
   "cell_type": "markdown",
   "id": "8ceaf815-16b0-4d30-9d1c-c2a569556aa6",
   "metadata": {},
   "source": [
    "```\n",
    "def factorial_recursive(n):\n",
    "    if n == 0:\n",
    "        return 1\n",
    "    return n * factorial_recursive(n - 1)"
   ]
  },
  {
   "cell_type": "markdown",
   "id": "0a582b0b-c48e-4669-9946-1aace9271686",
   "metadata": {},
   "source": [
    "# Обчислення факторіалу циклом for"
   ]
  },
  {
   "cell_type": "markdown",
   "id": "572bcaac-da0f-47cb-91ef-089eb650c4fb",
   "metadata": {},
   "source": [
    "```\n",
    "def factorial_iterative(n):\n",
    "    result = 1\n",
    "    for i in range(1, n + 1):\n",
    "        result *= i\n",
    "    return result"
   ]
  },
  {
   "cell_type": "markdown",
   "id": "7a941ad3-d9e4-4261-8c75-2c06fda53088",
   "metadata": {},
   "source": [
    "# Числа Фібоначчі (рекурсія)\n",
    "```\n",
    "def fibonacci(n):\n",
    "    if n == 0:\n",
    "        return 0\n",
    "    if n in (1, 2):\n",
    "        return 1\n",
    "    return fibonacci(n - 1) + fibonacci(n - 2)\n"
   ]
  },
  {
   "cell_type": "markdown",
   "id": "711a772d-4515-44c0-929e-a3cb293e2c6b",
   "metadata": {},
   "source": [
    "# Merge Sort — рекурсивне сортування\n",
    "```\n",
    "def merge_sort(arr):\n",
    "    if len(arr) < 2:\n",
    "        return arr\n",
    "    mid = len(arr) // 2\n",
    "    left = merge_sort(arr[:mid])\n",
    "    right = merge_sort(arr[mid:])\n",
    "    return merge(left, right)\n",
    "\n",
    "def merge(left, right):\n",
    "    result = []\n",
    "    i = j = 0\n",
    "    while i < len(left) and j < len(right):\n",
    "        if left[i] <= right[j]:\n",
    "            result.append(left[i])\n",
    "            i += 1\n",
    "        else:\n",
    "            result.append(right[j])\n",
    "            j += 1\n",
    "    result.extend(left[i:])\n",
    "    result.extend(right[j:])\n",
    "    return result"
   ]
  },
  {
   "cell_type": "markdown",
   "id": "16068e73-0938-4f68-a8a7-6af487cdfe2d",
   "metadata": {},
   "source": [
    "# Контрольні питання."
   ]
  },
  {
   "cell_type": "markdown",
   "id": "eb557dee-4bb0-477e-aa0f-17c9f2dcf640",
   "metadata": {},
   "source": [
    "1. Ω-нотація - визначає нижню межу складності (найкращий випадок)\n",
    "2. F(N) = N³ + 7N² - 14N → O(N³) (домінуючий член)\n",
    "3. F(N) = 1.01^N + N^10 → O(1.01^N) (експонента домінує над поліномом)\n",
    "4. F(N) = N^1.3 + 10 log₂ N → O(N^1.3) (степенева функція домінує)\n",
    "5. Розпаралелювання - виконання обчислень одночасно на декількох ядрах:\n",
    "\n",
    "Merge Sort - легко розпаралелюється\n",
    "Факторіал - обмежено можливо\n",
    "Фібоначчі - складно розпаралелити\n",
    "\n",
    "6. Способи прискорення:\n",
    "\n",
    "Найефективніший: алгоритмічна оптимізація\n",
    "Інші: розпаралелювання, кешування, апаратна оптимізація"
   ]
  },
  {
   "cell_type": "markdown",
   "id": "b3146567-cfe1-4572-b9a0-1fdea9208f75",
   "metadata": {},
   "source": [
    "# Висновок:\n",
    "# В ході цієї лабораторнох роботи ми засвоїли технологію реалізації рекурсивних алгоритмів і оцінювати їх складності."
   ]
  },
  {
   "cell_type": "code",
   "execution_count": null,
   "id": "47836c0f-498c-49a1-9f48-c9efec5722e2",
   "metadata": {},
   "outputs": [],
   "source": []
  }
 ],
 "metadata": {
  "kernelspec": {
   "display_name": "Python [conda env:base] *",
   "language": "python",
   "name": "conda-base-py"
  },
  "language_info": {
   "codemirror_mode": {
    "name": "ipython",
    "version": 3
   },
   "file_extension": ".py",
   "mimetype": "text/x-python",
   "name": "python",
   "nbconvert_exporter": "python",
   "pygments_lexer": "ipython3",
   "version": "3.12.7"
  }
 },
 "nbformat": 4,
 "nbformat_minor": 5
}
