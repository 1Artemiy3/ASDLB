{
 "cells": [
  {
   "cell_type": "markdown",
   "id": "42cf8ee4-d65e-432d-81d1-dc717e4c4985",
   "metadata": {},
   "source": [
    "# Практична робота № 3\n",
    "# Тема. Алгоритми сортування та їх складність. Порівняння алгоритмів сортування\n",
    "# Мета: опанувати основні алгоритми сортування та навчитись методам аналізу їх асимптотичної складності."
   ]
  },
  {
   "cell_type": "markdown",
   "id": "94de5717-e0de-4235-bfd7-75ae22c45209",
   "metadata": {},
   "source": [
    "#  Бульбашкове сортування"
   ]
  },
  {
   "cell_type": "code",
   "execution_count": 1,
   "id": "3fff5b70-44d0-470d-a67e-23444eedf584",
   "metadata": {},
   "outputs": [],
   "source": [
    "def bubble_sort(arr):\n",
    "    n = len(arr)\n",
    "    for i in range(n):\n",
    "        swapped = False  # оптимізація\n",
    "        for j in range(0, n - i - 1):\n",
    "            if arr[j] > arr[j + 1]:\n",
    "                arr[j], arr[j + 1] = arr[j + 1], arr[j]\n",
    "                swapped = True\n",
    "        if not swapped:\n",
    "            break  # масив вже відсортований\n",
    "    return arr\n"
   ]
  },
  {
   "cell_type": "markdown",
   "id": "0ca1bdd7-a95d-42cb-a6bf-bf607935d43d",
   "metadata": {},
   "source": [
    "# Асимптотика Bubble Sort:\n",
    "Найгірший випадок: O(n²) — коли всі елементи у зворотному порядку.\n",
    "Найкращий випадок: O(n) — коли список вже відсортований (з оптимізацією).\n",
    "Порівняння з сортуванням вставками:\n",
    "Обидва мають найгірший випадок O(n²).\n",
    "Але Insertion Sort працює швидше на майже відсортованих масивах.\n",
    "Бульбашкове сортування — повільніше через зайві перестановки.\n",
    "Чому Merge Sort краще за Bubble Sort на практиці:\n",
    "Merge Sort має асимптотику O(n log n), навіть у найгіршому випадку.\n",
    "Він значно ефективніший на великих масивах.\n",
    "Bubble Sort — лише для навчання, не використовується у реальних системах."
   ]
  },
  {
   "cell_type": "markdown",
   "id": "ada96101-eff3-460c-805b-ce5c0b01c94b",
   "metadata": {},
   "source": [
    "# Сортування злиттям"
   ]
  },
  {
   "cell_type": "code",
   "execution_count": 2,
   "id": "d1cfe2ef-fb3b-4857-b5eb-a4abc9c72c9e",
   "metadata": {},
   "outputs": [],
   "source": [
    "def merge_sort(arr):\n",
    "    if len(arr) <= 1:\n",
    "        return arr\n",
    "    mid = len(arr) // 2\n",
    "    left = merge_sort(arr[:mid])\n",
    "    right = merge_sort(arr[mid:])\n",
    "    return merge(left, right)\n",
    "\n",
    "def merge(left, right):\n",
    "    result = []\n",
    "    i = j = 0\n",
    "    # Злиття двох частин\n",
    "    while i < len(left) and j < len(right):\n",
    "        if left[i] < right[j]:\n",
    "            result.append(left[i])\n",
    "            i += 1\n",
    "        else:\n",
    "            result.append(right[j])\n",
    "            j += 1\n",
    "    result.extend(left[i:])\n",
    "    result.extend(right[j:])\n",
    "    return result\n"
   ]
  },
  {
   "cell_type": "markdown",
   "id": "0ebdba83-de03-4f8f-abe9-0d4ef7a3748f",
   "metadata": {},
   "source": [
    "# Асимптотика Merge Sort:\n",
    "Ділення масиву на 2 частини на кожному рівні: log₂(n) рівнів.\n",
    "На кожному рівні виконується O(n) операцій злиття.\n",
    "Підсумок: O(n log n) — для всіх випадків (кращий, середній, гірший).\n",
    "Це випливає з основної теореми рекурсії:\n",
    "Якщо T(n) = 2T(n/2) + O(n) → тоді T(n) = O(n log n)"
   ]
  },
  {
   "cell_type": "markdown",
   "id": "4685c85a-d33c-4608-b086-429cfb8e79f7",
   "metadata": {},
   "source": [
    "# Швидке сортування "
   ]
  },
  {
   "cell_type": "code",
   "execution_count": 3,
   "id": "ea7fdca5-03b8-4785-bab0-7017511d13b6",
   "metadata": {},
   "outputs": [],
   "source": [
    "def quick_sort(arr):\n",
    "    if len(arr) <= 1:\n",
    "        return arr\n",
    "    pivot = arr[0]  # опорний елемент\n",
    "    less = [x for x in arr[1:] if x <= pivot]\n",
    "    greater = [x for x in arr[1:] if x > pivot]\n",
    "    return quick_sort(less) + [pivot] + quick_sort(greater)\n"
   ]
  },
  {
   "cell_type": "markdown",
   "id": "4f94e5b4-5544-4d17-a9db-cf2b9b562f4b",
   "metadata": {},
   "source": [
    "# Асимптотика Quick Sort:\n",
    "Середній та найкращий випадок:\n",
    "Ділимо список навпіл → log₂(n) рівнів.\n",
    "На кожному рівні — O(n) порівнянь.\n",
    "Підсумок: O(n log n)\n",
    "Найгірший випадок:\n",
    "Якщо список вже відсортований або опорний елемент найменший/найбільший:\n",
    "→ одна частина має n-1 елемент, інша — 0.\n",
    "Підсумок: O(n²)\n",
    "З основної теореми рекурсії:\n",
    "Якщо T(n) = T(n - 1) + O(n) → тоді T(n) = O(n²)"
   ]
  },
  {
   "cell_type": "markdown",
   "id": "08ccec31-dc69-4e60-8867-e7c79daaccf6",
   "metadata": {},
   "source": [
    "#  Приклад використання всіх трьох на одному масиві"
   ]
  },
  {
   "cell_type": "code",
   "execution_count": 4,
   "id": "0512f26b-bef0-4e09-8e54-1f03f0821d83",
   "metadata": {},
   "outputs": [
    {
     "name": "stdout",
     "output_type": "stream",
     "text": [
      "Оригінал: [51, 60, 67, 20, 87, 60, 88, 35, 85, 50]\n",
      "Bubble Sort: [20, 35, 50, 51, 60, 60, 67, 85, 87, 88]\n",
      "Merge Sort: [20, 35, 50, 51, 60, 60, 67, 85, 87, 88]\n",
      "Quick Sort: [20, 35, 50, 51, 60, 60, 67, 85, 87, 88]\n"
     ]
    }
   ],
   "source": [
    "import random\n",
    "\n",
    "data = [random.randint(0, 100) for _ in range(10)]\n",
    "\n",
    "print(\"Оригінал:\", data)\n",
    "print(\"Bubble Sort:\", bubble_sort(data.copy()))\n",
    "print(\"Merge Sort:\", merge_sort(data.copy()))\n",
    "print(\"Quick Sort:\", quick_sort(data.copy()))\n"
   ]
  },
  {
   "cell_type": "markdown",
   "id": "ee72bbfc-9f32-4287-8b5f-65d7e40dde1a",
   "metadata": {},
   "source": [
    "# Контрольні запитання "
   ]
  },
  {
   "cell_type": "markdown",
   "id": "7aad9d2f-65c2-4c80-b108-ce4377375ae4",
   "metadata": {},
   "source": [
    "# 1. Що таке асимптотична складність алгоритму сортування і чому вона важлива?\n",
    "Асимптотична складність — це оцінка швидкості зростання часу роботи алгоритму при збільшенні розміру даних.\n",
    "Вона дозволяє порівнювати ефективність алгоритмів незалежно від комп’ютера чи реалізації.\n",
    "# 2. Які алгоритми сортування мають квадратичну складність у найгіршому випадку?\n",
    "Bubble Sort, Insertion Sort, Selection Sort — всі мають O(n²).\n",
    "Це повільно для великих даних, бо кількість операцій росте дуже швидко.\n",
    "# 3. В чому полягає перевага сортування злиттям над сортуванням вставками?\n",
    "Merge Sort стабільно працює за O(n log n) і краще підходить для великих масивів.\n",
    "Insertion Sort повільний (O(n²)) при великій кількості елементів.\n",
    "# 4. Які алгоритми сортування використовуються у стандартних бібліотеках?\n",
    "Python: Timsort (гібрид Merge + Insertion)\n",
    "Java: Timsort або Dual-Pivot QuickSort\n",
    "C++: Introsort (гібрид QuickSort + HeapSort + Insertion)\n",
    "# 5. Яка різниця між Merge Sort і Quick Sort? Коли який краще?\n",
    "Merge Sort завжди O(n log n), стабільний, але потребує більше памʼяті.\n",
    "Quick Sort швидший у середньому, але може бути O(n²).\n",
    "Merge — для стабільності та великих обсягів, Quick — для швидкості й менших масивів.\n",
    "# 6. Які фактори слід враховувати при виборі алгоритму сортування?\n",
    "Розмір даних, відсортованість, стабільність, обмеження памʼяті, вимоги до швидкості.\n",
    "Також важливо, чи можна змінювати вхідний список."
   ]
  },
  {
   "cell_type": "code",
   "execution_count": null,
   "id": "9990cbd5-b45c-4cce-a8ea-f3fd1da20736",
   "metadata": {},
   "outputs": [],
   "source": []
  }
 ],
 "metadata": {
  "kernelspec": {
   "display_name": "Python [conda env:base] *",
   "language": "python",
   "name": "conda-base-py"
  },
  "language_info": {
   "codemirror_mode": {
    "name": "ipython",
    "version": 3
   },
   "file_extension": ".py",
   "mimetype": "text/x-python",
   "name": "python",
   "nbconvert_exporter": "python",
   "pygments_lexer": "ipython3",
   "version": "3.12.7"
  }
 },
 "nbformat": 4,
 "nbformat_minor": 5
}
