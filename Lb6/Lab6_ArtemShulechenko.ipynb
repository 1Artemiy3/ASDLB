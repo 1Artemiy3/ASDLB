{
 "cells": [
  {
   "cell_type": "markdown",
   "id": "dfeee902-87c5-4b1d-80e7-3179f867ce4b",
   "metadata": {},
   "source": [
    "# Лабораторна робота № 6"
   ]
  },
  {
   "cell_type": "markdown",
   "id": "6fd1825a-79ef-4aba-9941-efc6a4c06ce3",
   "metadata": {},
   "source": [
    "# Тема. Структури даних стек і черга\n",
    "# Мета: засвоїти головні функції та алгоритми роботи зі стеком і чергою засобами Python"
   ]
  },
  {
   "cell_type": "markdown",
   "id": "4027c2d8-3a88-4d3c-90bf-dada9bbb1749",
   "metadata": {},
   "source": [
    "# Стек "
   ]
  },
  {
   "cell_type": "code",
   "execution_count": 1,
   "id": "ae89b179-957f-4a42-a73b-1fc2d1dca183",
   "metadata": {},
   "outputs": [],
   "source": [
    "\n",
    "class Stack:\n",
    "    def __init__(self):\n",
    "        self.stack = []\n",
    "\n",
    "    def push(self, item):\n",
    "        self.stack.append(item)\n",
    "    \n",
    "    def pop(self):\n",
    "        return self.stack.pop() if not self.is_empty() else None\n",
    "    \n",
    "    def peek(self):\n",
    "        return self.stack[-1] if not self.is_empty() else None\n",
    "    \n",
    "    def is_empty(self):\n",
    "        return len(self.stack) == 0"
   ]
  },
  {
   "cell_type": "markdown",
   "id": "e11a5786-f649-452f-a3c9-4b435d8ba838",
   "metadata": {},
   "source": [
    "# Черга"
   ]
  },
  {
   "cell_type": "code",
   "execution_count": 2,
   "id": "ba47eba3-dd32-4754-8334-ba0285773bee",
   "metadata": {},
   "outputs": [],
   "source": [
    "class Queue:\n",
    "    def __init__(self):\n",
    "        self.queue = []\n",
    "\n",
    "    def enqueue(self, item):\n",
    "        self.queue.append(item)\n",
    "    \n",
    "    def dequeue(self):\n",
    "        return self.queue.pop(0) if not self.is_empty() else None\n",
    "    \n",
    "    def is_empty(self):\n",
    "        return len(self.queue) == 0"
   ]
  },
  {
   "cell_type": "markdown",
   "id": "6cc9e8a5-097a-43a8-945c-7efe262ec27e",
   "metadata": {},
   "source": [
    "# Тест "
   ]
  },
  {
   "cell_type": "code",
   "execution_count": 3,
   "id": "7046c82d-c475-4ba5-9620-db30378a090c",
   "metadata": {},
   "outputs": [
    {
     "name": "stdout",
     "output_type": "stream",
     "text": [
      "Stack pop: 2\n",
      "Queue dequeue: 10\n"
     ]
    }
   ],
   "source": [
    "s = Stack()\n",
    "s.push(1)\n",
    "s.push(2)\n",
    "print(\"Stack pop:\", s.pop())  # 2\n",
    "\n",
    "q = Queue()\n",
    "q.enqueue(10)\n",
    "q.enqueue(20)\n",
    "print(\"Queue dequeue:\", q.dequeue())"
   ]
  },
  {
   "cell_type": "markdown",
   "id": "27ce5ace-2c36-48c6-950d-cff4d0339a12",
   "metadata": {},
   "source": [
    "# Теоретичні запитання "
   ]
  },
  {
   "cell_type": "markdown",
   "id": "654e6a63-7116-4018-8169-fa2a2ab36033",
   "metadata": {},
   "source": [
    "# 1. Що таке стек і які операції можна виконувати зі стеком?\n",
    "Стек - структура даних типу LIFO (Last In, First Out).\n",
    "Основні операції:\n",
    "\n",
    "push() - додати елемент на вершину\n",
    "pop() - видалити елемент з вершини\n",
    "peek()/top() - подивитися верхній елемент\n",
    "isEmpty() - перевірити чи порожній\n",
    "size() - розмір стека\n",
    "\n",
    "# 2. Основна відмінність між стеком та чергою\n",
    "Стек: LIFO (останній прийшов - перший пішов)\n",
    "Черга: FIFO (перший прийшов - перший пішов)\n",
    "# 3. Реалізація стека\n",
    "Масив:\n",
    "Переваги: швидкий доступ O(1), економія пам'яті\n",
    "Недоліки: фіксований розмір, можливе переповнення\n",
    "Зв'язаний список:\n",
    "Переваги: динамічний розмір, немає переповнення\n",
    "Недоліки: додаткова пам'ять на покажчики, можлива фрагментація\n",
    "# 4. Застосування стека та черги\n",
    "Стек:\n",
    "\n",
    "Виклик функцій (call stack)\n",
    "Операція \"відмінити\" (undo)\n",
    "Перевірка збалансованості дужок\n",
    "Обхід дерев у глибину\n",
    "Оцінка виразів\n",
    "\n",
    "Черга:\n",
    "\n",
    "Планування процесів в ОС\n",
    "Буферизація даних\n",
    "Обробка запитів на сервері\n",
    "Обхід дерев у ширину\n",
    "Друк документів (черга друку)"
   ]
  },
  {
   "cell_type": "markdown",
   "id": "01d113bc-8b64-415f-9b05-d3e3ff931a82",
   "metadata": {},
   "source": [
    "# Висновок:\n",
    "**Під час цієї лабораторної роботи ми познайомилися з такими структурами даних, як стек і черга, а також навчилися працювати з ними.**"
   ]
  }
 ],
 "metadata": {
  "kernelspec": {
   "display_name": "Python [conda env:base] *",
   "language": "python",
   "name": "conda-base-py"
  },
  "language_info": {
   "codemirror_mode": {
    "name": "ipython",
    "version": 3
   },
   "file_extension": ".py",
   "mimetype": "text/x-python",
   "name": "python",
   "nbconvert_exporter": "python",
   "pygments_lexer": "ipython3",
   "version": "3.12.7"
  }
 },
 "nbformat": 4,
 "nbformat_minor": 5
}
