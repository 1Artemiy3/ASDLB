{
 "cells": [
  {
   "cell_type": "markdown",
   "id": "6093b2bd-f3d9-44eb-a443-cdf119bbc8ab",
   "metadata": {},
   "source": [
    "# Лабораторна робота №7\n",
    "# Тема: Структури даних дерево, купа, геш-таблиця\n",
    "# Мета: засвоїти основні функції та алгоритми роботи з деревами та купою засобами Python."
   ]
  },
  {
   "cell_type": "markdown",
   "id": "2415acc4-2daa-4a5d-ba4c-eff8f7057611",
   "metadata": {},
   "source": [
    "# Створення бінарного дерева"
   ]
  },
  {
   "cell_type": "code",
   "execution_count": 1,
   "id": "0ff4b57d-3ca5-40e8-bca6-f1f8f27d1d8c",
   "metadata": {},
   "outputs": [
    {
     "name": "stdout",
     "output_type": "stream",
     "text": [
      "20 30 40 50 60 70 80 "
     ]
    }
   ],
   "source": [
    "class Node:\n",
    "    def __init__(self, key):\n",
    "        self.key = key\n",
    "        self.left = None\n",
    "        self.right = None\n",
    "\n",
    "# Додавання вузлів до дерева\n",
    "def insert(root, key):\n",
    "    if root is None:\n",
    "        return Node(key)\n",
    "    if key < root.key:\n",
    "        root.left = insert(root.left, key)\n",
    "    else:\n",
    "        root.right = insert(root.right, key)\n",
    "    return root\n",
    "\n",
    "# Обхід дерева (інфіксно)\n",
    "def inorder_traversal(root):\n",
    "    if root:\n",
    "        inorder_traversal(root.left)\n",
    "        print(root.key, end=\" \")\n",
    "        inorder_traversal(root.right)\n",
    "\n",
    "# Приклад\n",
    "root = None\n",
    "for val in [50, 30, 70, 20, 40, 60, 80]:\n",
    "    root = insert(root, val)\n",
    "\n",
    "inorder_traversal(root)  # 20 30 40 50 60 70 80\n"
   ]
  },
  {
   "cell_type": "markdown",
   "id": "02b6eb58-5ba6-4a29-ae26-9f330a0925a7",
   "metadata": {},
   "source": [
    "# Видалення гілок дерева"
   ]
  },
  {
   "cell_type": "code",
   "execution_count": 3,
   "id": "2038a71d-bfd2-4a2d-938f-d053ff602d4e",
   "metadata": {},
   "outputs": [
    {
     "name": "stdout",
     "output_type": "stream",
     "text": [
      "20 40 50 60 70 80 "
     ]
    }
   ],
   "source": [
    "def delete_node(root, key):\n",
    "    if root is None:\n",
    "        return root\n",
    "    if key < root.key:\n",
    "        root.left = delete_node(root.left, key)\n",
    "    elif key > root.key:\n",
    "        root.right = delete_node(root.right, key)\n",
    "    else:\n",
    "        if root.left is None:\n",
    "            return root.right\n",
    "        elif root.right is None:\n",
    "            return root.left\n",
    "        temp = root.right\n",
    "        while temp.left:\n",
    "            temp = temp.left\n",
    "        root.key = temp.key\n",
    "        root.right = delete_node(root.right, temp.key)\n",
    "    return root\n",
    "\n",
    "root = delete_node(root, 30)\n",
    "inorder_traversal(root)\n"
   ]
  },
  {
   "cell_type": "markdown",
   "id": "3c413434-36dc-499c-998e-be4b928a899d",
   "metadata": {},
   "source": [
    "# Асимптотична складність\n",
    "* Вставка, пошук, видалення в балансованому дереві: O(log n)\n",
    "* У найгіршому випадку (небалансоване дерево) — O(n)"
   ]
  },
  {
   "cell_type": "markdown",
   "id": "14ebb0ad-8446-4cfe-959b-cc52640e941f",
   "metadata": {},
   "source": [
    "# Побудова купи"
   ]
  },
  {
   "cell_type": "code",
   "execution_count": 5,
   "id": "acb80caf-73e1-40f8-9050-ceed09656422",
   "metadata": {},
   "outputs": [
    {
     "name": "stdout",
     "output_type": "stream",
     "text": [
      "[10, 20, 30, 70, 50]\n"
     ]
    }
   ],
   "source": [
    "import heapq\n",
    "\n",
    "# Створення купи (мін-купа)\n",
    "heap = []\n",
    "for val in [50, 20, 30, 70, 10]:\n",
    "    heapq.heappush(heap, val)\n",
    "\n",
    "print(heap)  # [10, 20, 30, 70, 50]"
   ]
  },
  {
   "cell_type": "markdown",
   "id": "7f6f3274-b973-4718-bd61-d6126c6d4575",
   "metadata": {},
   "source": [
    "# Додавання елемента до купи"
   ]
  },
  {
   "cell_type": "code",
   "execution_count": 6,
   "id": "cae29e6f-0231-44d1-bd61-cda6f494e0f2",
   "metadata": {},
   "outputs": [
    {
     "name": "stdout",
     "output_type": "stream",
     "text": [
      "[5, 20, 10, 70, 50, 30]\n"
     ]
    }
   ],
   "source": [
    "heapq.heappush(heap, 5)\n",
    "print(heap)  # [5, 20, 10, 70, 50, 30]\n"
   ]
  },
  {
   "cell_type": "markdown",
   "id": "f343bd77-1306-45aa-88c1-9010d2b0891a",
   "metadata": {},
   "source": [
    "# Видалення найбільшого елемента з купи"
   ]
  },
  {
   "cell_type": "code",
   "execution_count": 8,
   "id": "03ad83bd-3a1c-4574-8304-8f905aa1b354",
   "metadata": {},
   "outputs": [
    {
     "name": "stdout",
     "output_type": "stream",
     "text": [
      "70\n"
     ]
    }
   ],
   "source": [
    "max_heap = []\n",
    "for val in [10, 50, 30, 70]:\n",
    "    heapq.heappush(max_heap, -val)\n",
    "\n",
    "print(-heapq.heappop(max_heap))  "
   ]
  },
  {
   "cell_type": "markdown",
   "id": "d7b36a43-9da7-401f-b2c4-81455fcb869c",
   "metadata": {},
   "source": [
    "# Асимптотична складність купи:\n",
    "* Вставка: O(log n)\n",
    "* Видалення (pop): O(log n)\n",
    "* Побудова купи: O(n) (через heapify)\n",
    "\n"
   ]
  },
  {
   "cell_type": "markdown",
   "id": "56d57669-0ee7-4f5a-b8a8-157ec1458f87",
   "metadata": {},
   "source": [
    "# Реалізація хеш-таблиці"
   ]
  },
  {
   "cell_type": "code",
   "execution_count": 10,
   "id": "5381b206-c081-4396-a921-411fdb2d70e5",
   "metadata": {},
   "outputs": [
    {
     "name": "stdout",
     "output_type": "stream",
     "text": [
      "5\n"
     ]
    }
   ],
   "source": [
    "hash_table = {}\n",
    "hash_table[\"apple\"] = 10\n",
    "hash_table[\"banana\"] = 5\n",
    "hash_table[\"orange\"] = 7\n",
    "\n",
    "print(hash_table[\"banana\"]) "
   ]
  },
  {
   "cell_type": "markdown",
   "id": "2df0a85a-5c20-4c2f-82ee-424165cbd4ed",
   "metadata": {},
   "source": [
    "#  Порівняння для різних типів даних"
   ]
  },
  {
   "cell_type": "code",
   "execution_count": 11,
   "id": "d8116b6e-ddb5-4be7-bd6b-232cb785c92c",
   "metadata": {},
   "outputs": [
    {
     "name": "stdout",
     "output_type": "stream",
     "text": [
      "один\n",
      "один\n",
      "пара\n"
     ]
    }
   ],
   "source": [
    "hash_table_int = {1: \"один\", 2: \"два\"}\n",
    "hash_table_str = {\"1\": \"один\", \"2\": \"два\"}\n",
    "hash_table_tuple = {(1, 2): \"пара\", (3, 4): \"ще одна\"}\n",
    "\n",
    "print(hash_table_int[1])      \n",
    "print(hash_table_str[\"1\"])     \n",
    "print(hash_table_tuple[(1,2)]) "
   ]
  },
  {
   "cell_type": "markdown",
   "id": "83ebdb71-ee19-4275-ab7a-9ebf76313d11",
   "metadata": {},
   "source": [
    "# Контрольні питання "
   ]
  },
  {
   "cell_type": "markdown",
   "id": "06e2cc22-5ada-4444-a494-7f26b910c331",
   "metadata": {},
   "source": [
    "# 1. Стек та операції\n",
    "* Стек - LIFO структура (останній прийшов - перший пішов).\n",
    "* Операції: push (додати), pop (видалити), peek (подивитися верхній), isEmpty, size.\n",
    "# 2. Відмінність стек vs черга\n",
    "* Стек: LIFO - останній елемент виходить першим\n",
    "* Черга: FIFO - перший елемент виходить першим\n",
    "# 3. Реалізація стека\n",
    "* Масив:\n",
    "* Переваги: швидко O(1), мало пам'яті\n",
    "* Недоліки: фіксований розмір\n",
    "* Зв'язаний список:\n",
    "*Переваги: динамічний розмір\n",
    "*Недоліки: більше пам'яті на покажчики\n",
    "# 4. Застосування\n",
    "* Стек: виклики функцій, undo операції, дужки, калькулятор\n",
    "* Черга: планувальник ОС, буфери, черга друку, сервер запитів"
   ]
  },
  {
   "cell_type": "code",
   "execution_count": null,
   "id": "4e9fca9c-d76a-455d-a05c-92018169fdec",
   "metadata": {},
   "outputs": [],
   "source": [
    "# "
   ]
  }
 ],
 "metadata": {
  "kernelspec": {
   "display_name": "Python [conda env:base] *",
   "language": "python",
   "name": "conda-base-py"
  },
  "language_info": {
   "codemirror_mode": {
    "name": "ipython",
    "version": 3
   },
   "file_extension": ".py",
   "mimetype": "text/x-python",
   "name": "python",
   "nbconvert_exporter": "python",
   "pygments_lexer": "ipython3",
   "version": "3.12.7"
  }
 },
 "nbformat": 4,
 "nbformat_minor": 5
}
